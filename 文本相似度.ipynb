{
 "cells": [
  {
   "cell_type": "markdown",
   "metadata": {},
   "source": [
    "# 一、文本相似度分析（基于jieba和gensim）"
   ]
  },
  {
   "cell_type": "markdown",
   "metadata": {},
   "source": [
    "## 1.读取两篇文档（自己设计）：\n",
    "文档1.txt\n",
    "文档2.txt"
   ]
  },
  {
   "cell_type": "code",
   "execution_count": 13,
   "metadata": {},
   "outputs": [
    {
     "name": "stdout",
     "output_type": "stream",
     "text": [
      "我站在桥上看风景\n",
      "\n",
      "看风景的人在桥上看我\n"
     ]
    }
   ],
   "source": [
    "with open('文档1.txt', 'r',encoding=\"utf-8\") as fr: \n",
    "     text1= fr.read()\n",
    "with open('文档2.txt', 'r',encoding=\"utf-8\") as fr: \n",
    "      text2= fr.read()\n",
    "print(text1)\n",
    "print(text2)"
   ]
  },
  {
   "cell_type": "markdown",
   "metadata": {},
   "source": [
    "## 2.对要计算的多篇文档进行分词"
   ]
  },
  {
   "cell_type": "code",
   "execution_count": 14,
   "metadata": {},
   "outputs": [
    {
     "name": "stdout",
     "output_type": "stream",
     "text": [
      "[['我', '站', '在', '桥', '上', '看', '风景', '\\n'], ['看', '风景', '的', '人', '在', '桥', '上', '看', '我']]\n"
     ]
    }
   ],
   "source": [
    "import jieba\n",
    "texts=[text1, text2]\n",
    "texts=[jieba.lcut(text) for text in texts]\n",
    "print(texts)"
   ]
  },
  {
   "cell_type": "markdown",
   "metadata": {},
   "source": [
    "## 3.对文档进行整理成指定格式，方便后续进行计算"
   ]
  },
  {
   "cell_type": "code",
   "execution_count": 15,
   "metadata": {},
   "outputs": [
    {
     "name": "stdout",
     "output_type": "stream",
     "text": [
      "词典（字典）： {'\\n': 0, '上': 1, '在': 2, '我': 3, '桥': 4, '看': 5, '站': 6, '风景': 7, '人': 8, '的': 9}\n"
     ]
    }
   ],
   "source": [
    "from gensim import corpora,models,similarities\n",
    "import jieba\n",
    "dictionary=corpora.Dictionary(texts)\n",
    "print('词典（字典）：',dictionary.token2id)\n"
   ]
  },
  {
   "cell_type": "markdown",
   "metadata": {},
   "source": [
    "## 4.计算出词语的频率\n"
   ]
  },
  {
   "cell_type": "code",
   "execution_count": 16,
   "metadata": {},
   "outputs": [
    {
     "name": "stdout",
     "output_type": "stream",
     "text": [
      "{'我': 2, '站': 1, '在': 2, '桥': 2, '上': 2, '看': 3, '风景': 2, '\\n': 1, '的': 1, '人': 1}\n"
     ]
    }
   ],
   "source": [
    "from collections import Counter\n",
    "data=jieba.lcut(text1)+jieba.lcut(text2)\n",
    "data=dict(Counter(data))\n",
    "print(data)"
   ]
  },
  {
   "cell_type": "markdown",
   "metadata": {},
   "source": [
    "## 5.【可选】对频率低的词语进行过滤\n"
   ]
  },
  {
   "cell_type": "code",
   "execution_count": null,
   "metadata": {},
   "outputs": [],
   "source": []
  },
  {
   "cell_type": "markdown",
   "metadata": {},
   "source": [
    "## 6.通过语料库建立词典"
   ]
  },
  {
   "cell_type": "code",
   "execution_count": 17,
   "metadata": {},
   "outputs": [
    {
     "name": "stdout",
     "output_type": "stream",
     "text": [
      "词典（字典）： Dictionary<10 unique tokens: ['\\n', '上', '在', '我', '桥']...>\n",
      "语料库： [[(0, 1), (1, 1), (2, 1), (3, 1), (4, 1), (5, 1), (6, 1), (7, 1)], [(1, 1), (2, 1), (3, 1), (4, 1), (5, 2), (7, 1), (8, 1), (9, 1)]]\n"
     ]
    }
   ],
   "source": [
    "from gensim import corpora,models,similarities\n",
    "import jieba\n",
    "dictionary=corpora.Dictionary(texts)\n",
    "print('词典（字典）：',dictionary)\n",
    "corpus=[dictionary.doc2bow(text) for text in texts]\n",
    "print('语料库：',corpus)"
   ]
  },
  {
   "cell_type": "markdown",
   "metadata": {},
   "source": [
    "## 7.加载要对比的文档\n"
   ]
  },
  {
   "cell_type": "code",
   "execution_count": 18,
   "metadata": {},
   "outputs": [],
   "source": [
    "text3='站在桥上'"
   ]
  },
  {
   "cell_type": "markdown",
   "metadata": {},
   "source": [
    "## 8.将要对比的文档通过doc2bow转化为稀疏向量"
   ]
  },
  {
   "cell_type": "code",
   "execution_count": 19,
   "metadata": {},
   "outputs": [
    {
     "name": "stdout",
     "output_type": "stream",
     "text": [
      "[(1, 1), (2, 1), (4, 1), (6, 1)]\n"
     ]
    }
   ],
   "source": [
    "new_vec=dictionary.doc2bow(jieba.lcut(text3))\n",
    "print(new_vec)"
   ]
  },
  {
   "cell_type": "markdown",
   "metadata": {},
   "source": [
    "## 9.对稀疏向量进行进一步处理，得到新语料库\n"
   ]
  },
  {
   "cell_type": "code",
   "execution_count": 20,
   "metadata": {},
   "outputs": [
    {
     "name": "stdout",
     "output_type": "stream",
     "text": [
      "语料库： [[(0, 1), (1, 1), (2, 1), (3, 1), (4, 1), (5, 1), (6, 1), (7, 1)], [(1, 1), (2, 1), (3, 1), (4, 1), (5, 2), (7, 1), (8, 1), (9, 1)]]\n"
     ]
    }
   ],
   "source": [
    "corpus=[dictionary.doc2bow(text) for text in texts]\n",
    "print('语料库：',corpus)"
   ]
  },
  {
   "cell_type": "markdown",
   "metadata": {},
   "source": [
    "## 10.将新语料库通过tfidfmodel进行处理，得到tfidf\n"
   ]
  },
  {
   "cell_type": "code",
   "execution_count": 21,
   "metadata": {},
   "outputs": [
    {
     "data": {
      "text/plain": [
       "<gensim.models.tfidfmodel.TfidfModel at 0x200127ef5e0>"
      ]
     },
     "execution_count": 21,
     "metadata": {},
     "output_type": "execute_result"
    }
   ],
   "source": [
    "tfidf=models.TfidfModel(corpus)\n",
    "tfidf"
   ]
  },
  {
   "cell_type": "markdown",
   "metadata": {},
   "source": [
    "## 11.通过token2id得到特征数\n"
   ]
  },
  {
   "cell_type": "code",
   "execution_count": 22,
   "metadata": {},
   "outputs": [
    {
     "data": {
      "text/plain": [
       "10"
      ]
     },
     "execution_count": 22,
     "metadata": {},
     "output_type": "execute_result"
    }
   ],
   "source": [
    "num_features=len(dictionary.token2id)\n",
    "num_features"
   ]
  },
  {
   "cell_type": "markdown",
   "metadata": {},
   "source": [
    "## 12.稀疏矩阵相似度，从而建立索引\n"
   ]
  },
  {
   "cell_type": "code",
   "execution_count": 23,
   "metadata": {},
   "outputs": [
    {
     "name": "stdout",
     "output_type": "stream",
     "text": [
      "  (0, 0)\t0.70710677\n",
      "  (0, 6)\t0.70710677\n",
      "  (1, 8)\t0.70710677\n",
      "  (1, 9)\t0.70710677\n",
      "\n",
      "TF-IDF模型的稀疏向量集：\n",
      "[(0, 0.7071067811865475), (6, 0.7071067811865475)]\n",
      "[(8, 0.7071067811865475), (9, 0.7071067811865475)]\n",
      "\n",
      "TF-IDF模型的text3稀疏向量:\n",
      "[(6, 1.0)]\n",
      "[[0.99999994 0.        ]\n",
      " [0.         0.99999994]]\n"
     ]
    }
   ],
   "source": [
    "index=similarities.SparseMatrixSimilarity(tfidf[corpus],num_features)\n",
    "print(index.index)\n",
    "print('\\nTF-IDF模型的稀疏向量集：')\n",
    "for i in tfidf[corpus]:\n",
    "    print(i)\n",
    "print('\\nTF-IDF模型的text3稀疏向量:')\n",
    "print(tfidf[new_vec])\n",
    "sim=index[tfidf[corpus]]\n",
    "print(sim)"
   ]
  },
  {
   "cell_type": "markdown",
   "metadata": {},
   "source": [
    "## 13.得到最终相似度结果"
   ]
  },
  {
   "cell_type": "code",
   "execution_count": 24,
   "metadata": {},
   "outputs": [
    {
     "name": "stdout",
     "output_type": "stream",
     "text": [
      "\n",
      "相似度计算：\n",
      "第 1 句话的相似度为: 0.70710677\n",
      "第 2 句话的相似度为: 0.0\n"
     ]
    }
   ],
   "source": [
    "print('\\n相似度计算：')\n",
    "sim=index[tfidf[new_vec]]\n",
    "\n",
    "for i in range(len(sim)):\n",
    "    print('第',i+1,'句话的相似度为:',sim[i])"
   ]
  },
  {
   "cell_type": "markdown",
   "metadata": {},
   "source": [
    "# 二、文本相似度分析（基于sklearn）"
   ]
  },
  {
   "cell_type": "code",
   "execution_count": 25,
   "metadata": {},
   "outputs": [
    {
     "name": "stdout",
     "output_type": "stream",
     "text": [
      "{'我': 1, '站': 1, '在': 1, '桥': 1, '上': 1, '看': 1, '风景': 1, '\\n': 1}\n",
      "{'看': 2, '风景': 1, '的': 1, '人': 1, '在': 1, '桥': 1, '上': 1, '我': 1}\n",
      "[('我', 1), ('站', 1), ('在', 1), ('桥', 1), ('上', 1), ('看', 1), ('风景', 1), ('\\n', 1)]\n",
      "[('看', 2), ('风景', 1), ('的', 1), ('人', 1), ('在', 1), ('桥', 1), ('上', 1), ('我', 1)]\n",
      "['我', '站', '在', '桥', '上', '看', '风景', '\\n', '的', '人']\n",
      "[1, 1, 1, 1, 1, 1, 1, 1, 0, 0]\n",
      "[1, 0, 1, 1, 1, 2, 1, 0, 1, 1]\n",
      "[[1.         0.74620251]\n",
      " [0.74620251 1.        ]]\n"
     ]
    }
   ],
   "source": [
    "from collections import Counter\n",
    "import numpy as np\n",
    "import jieba\n",
    "#from sklearn.metrics.pairwise import cosine_similarity\n",
    "\n",
    "words1_dict=dict(Counter(jieba.lcut(text1)))\n",
    "words2_dict=dict(Counter(jieba.lcut(text2)))\n",
    "print(words1_dict)\n",
    "print(words2_dict)\n",
    "dic1 = sorted(words1_dict.items(), key=lambda x: x[1], reverse=True)\n",
    "dic2 = sorted(words2_dict.items(), key=lambda x: x[1], reverse=True)\n",
    "print(dic1)\n",
    "print(dic2)\n",
    "words_key = []\n",
    "list(map(lambda x: words_key.append(x[0]), dic1))\n",
    "list(map(lambda x: words_key.append(x[0]), filter(lambda x: x[0] not in words_key, dic2)))\n",
    "print(words_key)\n",
    "vect1 = []\n",
    "vect2 = []\n",
    "for word in words_key:\n",
    "    if word in words1_dict:\n",
    "        vect1.append(words1_dict[word])\n",
    "    else:\n",
    "         vect1.append(0)\n",
    "    if word in words2_dict:\n",
    "         vect2.append(words2_dict[word])\n",
    "    else:\n",
    "         vect2.append(0)\n",
    "print(vect1)\n",
    "print(vect2)\n",
    "from sklearn.metrics.pairwise import cosine_similarity\n",
    "user_tag_matric = np.matrix(np.array([vect1, vect2]))\n",
    "user_similarity = cosine_similarity(user_tag_matric)\n",
    "print(user_similarity)"
   ]
  },
  {
   "cell_type": "code",
   "execution_count": null,
   "metadata": {},
   "outputs": [],
   "source": []
  }
 ],
 "metadata": {
  "kernelspec": {
   "display_name": "Python 3 (ipykernel)",
   "language": "python",
   "name": "python3"
  },
  "language_info": {
   "codemirror_mode": {
    "name": "ipython",
    "version": 3
   },
   "file_extension": ".py",
   "mimetype": "text/x-python",
   "name": "python",
   "nbconvert_exporter": "python",
   "pygments_lexer": "ipython3",
   "version": "3.7.4"
  }
 },
 "nbformat": 4,
 "nbformat_minor": 4
}
