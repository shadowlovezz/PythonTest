{
 "cells": [
  {
   "cell_type": "code",
   "execution_count": 1,
   "metadata": {},
   "outputs": [
    {
     "name": "stdout",
     "output_type": "stream",
     "text": [
      "<class 'list'>\n",
      "['第三段那个小男孩太棒了', '最喜欢女排那个故事，小演员太可爱了。     优叔一出现感觉过年了。', '徐峥胜出。陈凯歌是作为总导演自告奋勇地拿了最烂的那个本子吗？', '我以前是不怎么感冒献礼片的，这次因为朱一龙的缘故关注了我和我的祖国，才发现我比自己想象中更爱这个国家。这部献礼片的意义，是串联，是纪念，是传承，非常适合全家一起观看。', '这样的电影注定是要带着餐巾纸去的，真的后悔自己是一个00后，感觉大事发生的时候要么自己还不在，要么就是太小了，心境不成熟。还好在我即将步入成年后，能看到这样一部电影，他深深地教会了我，永远与祖国荣辱同在，远比教科书更加深刻而有力的教法，让我急切的期待着有一天能对前辈说:幸不辱命!']\n",
      "['第三段那个小男孩太棒了', '']\n",
      "<class 'list'>\n",
      "['最喜欢女排那个故事，小演员太可爱了。     优叔一出现感觉过年了。', '']\n",
      "<class 'list'>\n",
      "['徐峥胜出。陈凯歌是作为总导演自告奋勇地拿了最烂的那个本子吗？', '']\n",
      "<class 'list'>\n",
      "['我以前是不怎么感冒献礼片的，这次因为朱一龙的缘故关注了我和我的祖国，才发现我比自己想象中更爱这个国家。这部献礼片的意义，是串联，是纪念，是传承，非常适合全家一起观看。', '']\n",
      "<class 'list'>\n",
      "['这样的电影注定是要带着餐巾纸去的，真的后悔自己是一个00后，感觉大事发生的时候要么自己还不在，要么就是太小了，心境不成熟。还好在我即将步入成年后，能看到这样一部电影，他深深地教会了我，永远与祖国荣辱同在，远比教科书更加深刻而有力的教法，让我急切的期待着有一天能对前辈说:幸不辱命!', '']\n",
      "<class 'list'>\n"
     ]
    }
   ],
   "source": [
    "import requests \n",
    "from lxml import etree\n",
    "import csv\n",
    "url = 'https://movie.douban.com/subject/32659890/'\n",
    "headers = {\n",
    "    \"Referer\": \"https://movie.douban.com/subject/32659890/\",\n",
    "    \"User-Agent\": \"Mozilla/5.0 (Windows NT 10.0; WOW64) AppleWebKit/537.36 (KHTML, like Gecko) Chrome/86.0.4240.198 Safari/537.36\"\n",
    "}\n",
    "data = requests.get(url,headers=headers).text\n",
    "\n",
    "\n",
    "s=etree.HTML(data)\n",
    "film=s.xpath('//*[@id=\"content\"]/h1/span[1]/text()')\n",
    "#print(film)\n",
    "\n",
    "pl=s.xpath('//*[@id=\"hot-comments\"]/div[1]/div/p/span[1]/text()')\n",
    "#print(pl)\n",
    "\n",
    "pl=[]\n",
    "pl=s.xpath('//*[@id=\"hot-comments\"]/div/div/p/span/text()')\n",
    "print(type(pl))\n",
    "print(pl)\n",
    "\n",
    "p=''\n",
    "with open('douban.csv','w+',encoding='utf-8',newline='') as f:\n",
    "    writer = csv.writer(f)\n",
    "    for s in pl:\n",
    "        s=[s,p]\n",
    "        print(s)\n",
    "        print(type(s))\n",
    "        writer.writerow(s)\n",
    "        \n",
    "    \n",
    "\n",
    "\n",
    "\n"
   ]
  },
  {
   "cell_type": "code",
   "execution_count": 8,
   "metadata": {},
   "outputs": [],
   "source": [
    "import pandas\n",
    "comments=[]\n",
    "for item in pl:\n",
    "    comments.append(item)\n",
    "df=pandas.DataFrame(comments)\n",
    "df.to_csv('comments.csv',encoding='utf-8_sig')"
   ]
  },
  {
   "cell_type": "code",
   "execution_count": null,
   "metadata": {},
   "outputs": [],
   "source": []
  },
  {
   "cell_type": "code",
   "execution_count": null,
   "metadata": {},
   "outputs": [],
   "source": []
  },
  {
   "cell_type": "code",
   "execution_count": null,
   "metadata": {},
   "outputs": [],
   "source": []
  },
  {
   "cell_type": "code",
   "execution_count": null,
   "metadata": {},
   "outputs": [],
   "source": []
  }
 ],
 "metadata": {
  "kernelspec": {
   "display_name": "Python 3",
   "language": "python",
   "name": "python3"
  },
  "language_info": {
   "codemirror_mode": {
    "name": "ipython",
    "version": 3
   },
   "file_extension": ".py",
   "mimetype": "text/x-python",
   "name": "python",
   "nbconvert_exporter": "python",
   "pygments_lexer": "ipython3",
   "version": "3.8.3"
  }
 },
 "nbformat": 4,
 "nbformat_minor": 4
}
