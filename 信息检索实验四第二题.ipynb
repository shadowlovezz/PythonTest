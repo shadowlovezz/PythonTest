{
 "cells": [
  {
   "cell_type": "code",
   "execution_count": 1,
   "id": "144c4f6a",
   "metadata": {},
   "outputs": [
    {
     "name": "stdout",
     "output_type": "stream",
     "text": [
      "Requirement already satisfied: jieba in d:\\env\\python-3.7.4\\lib\\site-packages (0.42.1)\n",
      "Note: you may need to restart the kernel to use updated packages.\n"
     ]
    },
    {
     "name": "stderr",
     "output_type": "stream",
     "text": [
      "WARNING: You are using pip version 21.3.1; however, version 22.3 is available.\n",
      "You should consider upgrading via the 'D:\\env\\python-3.7.4\\Scripts\\python.exe -m pip install --upgrade pip' command.\n"
     ]
    }
   ],
   "source": [
    "pip install jieba"
   ]
  },
  {
   "cell_type": "code",
   "execution_count": 7,
   "id": "e5e35508",
   "metadata": {},
   "outputs": [],
   "source": [
    "with open('output.txt', 'r',encoding=\"utf-8\") as fr: \n",
    "    data = fr.read()"
   ]
  },
  {
   "cell_type": "code",
   "execution_count": 10,
   "id": "f63da512",
   "metadata": {},
   "outputs": [
    {
     "data": {
      "text/plain": [
       "['庄墨', '余年', '文人', '梦想', '一生']"
      ]
     },
     "execution_count": 10,
     "metadata": {},
     "output_type": "execute_result"
    }
   ],
   "source": [
    "import jieba.analyse\n",
    "jieba.analyse.extract_tags(data, topK=5, withWeight=False, allowPOS=())"
   ]
  },
  {
   "cell_type": "code",
   "execution_count": null,
   "id": "da3bfd3f",
   "metadata": {},
   "outputs": [],
   "source": []
  }
 ],
 "metadata": {
  "kernelspec": {
   "display_name": "Python 3 (ipykernel)",
   "language": "python",
   "name": "python3"
  },
  "language_info": {
   "codemirror_mode": {
    "name": "ipython",
    "version": 3
   },
   "file_extension": ".py",
   "mimetype": "text/x-python",
   "name": "python",
   "nbconvert_exporter": "python",
   "pygments_lexer": "ipython3",
   "version": "3.7.4"
  }
 },
 "nbformat": 4,
 "nbformat_minor": 5
}
